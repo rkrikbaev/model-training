{
 "cells": [
  {
   "cell_type": "markdown",
   "metadata": {},
   "source": []
  },
  {
   "cell_type": "code",
   "execution_count": null,
   "metadata": {},
   "outputs": [],
   "source": [
    "import json\n",
    "import pandas as pd\n",
    "from prophet import Prophet, serialize\n",
    "from prophet.diagnostics import cross_validation, performance_metrics\n",
    "import mlflow\n",
    "import sys\n",
    "\n",
    "import logging\n",
    "logging.basicConfig(stream=sys.stdout, level=logging.DEBUG,\n",
    "                    format=f\"%(asctime)s - [%(levelname)s] - %(name)s - (%(filename)s).%(funcName)s(%(lineno)d) - %(message)s\")\n",
    "logger = logging.getLogger(__name__)\n",
    "\n",
    "ARTIFACT_PATH = \"model\""
   ]
  },
  {
   "cell_type": "code",
   "execution_count": null,
   "metadata": {},
   "outputs": [],
   "source": [
    "SOURCE_DATA = (\n",
    "    \"https://raw.githubusercontent.com/rkrikbaev/model-training/master/jupyter/project/fp_archives.csv\"\n",
    ")"
   ]
  },
  {
   "cell_type": "code",
   "execution_count": null,
   "metadata": {},
   "outputs": [],
   "source": [
    "def extract_params(self, pr_model):\n",
    "    return {attr: getattr(pr_model, attr) for attr in serialize.SIMPLE_ATTRIBUTES}"
   ]
  },
  {
   "cell_type": "code",
   "execution_count": null,
   "metadata": {},
   "outputs": [],
   "source": [
    "def train(model, dataframe, settings):\n",
    "\n",
    "    # Init prophet model\n",
    "\n",
    "    model = Prophet(\n",
    "        growth=settings[\"growth\"],\n",
    "        seasonality_mode=settings[\"seasonality_mode\"],\n",
    "        changepoint_prior_scale=settings['changepoint_prior_scale'],\n",
    "        seasonality_prior_scale=settings['seasonality_prior_scale'],\n",
    "        daily_seasonality=settings['daily_seasonality'],\n",
    "        weekly_seasonality=settings['weekly_seasonality'],\n",
    "        yearly_seasonality=settings['yearly_seasonality']\n",
    "    )\n",
    "\n",
    "    for season in settings['seasonality']:\n",
    "        model.add_seasonality(\n",
    "            name=season['name'],\n",
    "            period=season['period'],\n",
    "            fourier_order=season['fourier_order']\n",
    "        )\n",
    "\n",
    "    with mlflow.start_run():\n",
    "\n",
    "        fitted_model = model.fit(df)\n",
    "        mlflow.prophet.log_model(fitted_model, artifact_path=ARTIFACT_PATH)\n",
    "        params = extract_params(fitted_model)\n",
    "\n",
    "        metric_keys = [\"mse\", \"rmse\", \"mae\",\n",
    "                       \"mape\", \"mdape\", \"smape\", \"coverage\"]\n",
    "        \n",
    "        cross_validation_params = settings.get('cross_validation')\n",
    "        cross_validation_enable = settings.get('cross_validation_enabled')\n",
    "\n",
    "        if cross_validation_params and cross_validation_enable:\n",
    "            \n",
    "            metrics_raw = cross_validation(\n",
    "                model=fitted_model,\n",
    "                horizon=cross_validation_params.get('horizon'),  # \"365\",\n",
    "                period=cross_validation_params.get('period'),  # \"180\",\n",
    "                initial=cross_validation_params.get('initial'),  # \"710\",\n",
    "                parallel=cross_validation_params.get(\n",
    "                    'parallel'),  # \"threads\",\n",
    "                disable_tqdm=cross_validation_params.get(\n",
    "                    'disable_tqdm'),  # True,\n",
    "                units=cross_validation_params.get('units')  # days\n",
    "            )\n",
    "\n",
    "            cv_metrics = performance_metrics(metrics_raw)\n",
    "            metrics = {k: cv_metrics[k].mean() for k in metric_keys}\n",
    "\n",
    "            # logger.debug(\n",
    "            #     f\"Logged Metrics: \\n{json.dumps(metrics, indent=2)}\")\n",
    "            # logger.debug(\n",
    "            #     f\"Logged Params: \\n{json.dumps(params, indent=2)}\")\n",
    "\n",
    "        mlflow.prophet.log_model(model, artifact_path=ARTIFACT_PATH)\n",
    "        mlflow.log_metrics(metrics)\n",
    "        mlflow.log_params(params)\n",
    "\n",
    "        model_uri = mlflow.get_artifact_uri(ARTIFACT_PATH)\n",
    "\n",
    "        logger.debug(f\"Model artifact logged to: {model_uri}\")\n"
   ]
  },
  {
   "cell_type": "code",
   "execution_count": null,
   "metadata": {},
   "outputs": [],
   "source": [
    "# model settings\n",
    "settings = {\n",
    "        \"growth\": \"linear\", \n",
    "        \"seasonality_mode\": \"multiplicative\", \n",
    "        \"changepoint_prior_scale\": 30,\n",
    "        \"seasonality_prior_scale\": 35,\n",
    "        \"interval_width\": 0.98,\n",
    "        \"daily_seasonality\": \"auto\",\n",
    "        \"weekly_seasonality\": \"auto\",\n",
    "        \"yearly_seasonality\": false, \n",
    "        \"seasonality\": [{\"name\": \"hour\",\"period\": 0.417, \"fourier_order\": 5}], \n",
    "        \"cross_validation\":{\n",
    "            \"horizon\":\"48 hours\", \"period\":\"24\", \"initial\":\"144 hours\",\"parallel\":\"threads\",\"disable_tqdm\":true\n",
    "        }\n",
    "    }"
   ]
  },
  {
   "cell_type": "code",
   "execution_count": null,
   "metadata": {},
   "outputs": [],
   "source": [
    "train(model, dataframe, settings)\n"
   ]
  }
 ],
 "metadata": {
  "language_info": {
   "name": "python"
  },
  "orig_nbformat": 4
 },
 "nbformat": 4,
 "nbformat_minor": 2
}
